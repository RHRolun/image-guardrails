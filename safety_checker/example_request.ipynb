{
 "cells": [
  {
   "cell_type": "code",
   "execution_count": null,
   "id": "35f211ae-0e5a-47f1-b035-4eb2b359d61e",
   "metadata": {},
   "outputs": [
    {
     "name": "stdout",
     "output_type": "stream",
     "text": [
      "{'detail': 'Method Not Allowed'}\n"
     ]
    }
   ],
   "source": [
    "import base64\n",
    "from PIL import Image\n",
    "import requests\n",
    "from io import BytesIO"
   ]
  },
  {
   "cell_type": "code",
   "execution_count": 6,
   "id": "9510f521-5272-4fc9-b802-2d01c207e977",
   "metadata": {},
   "outputs": [],
   "source": [
    "deployed_model_name = \"safety-checker\"\n",
    "infer_endpoint = \"\"\n",
    "infer_url = f\"{infer_endpoint}/v2/models/{deployed_model_name}/infer\""
   ]
  },
  {
   "cell_type": "code",
   "execution_count": 19,
   "id": "086ae01d-d4d6-420c-9088-5658fa8fa4c4",
   "metadata": {},
   "outputs": [],
   "source": [
    "def rest_request(data):\n",
    "    json_data = {\n",
    "        \"inputs\": [ \n",
    "           {\n",
    "                \"name\": \"image\",\n",
    "                \"shape\": [1, 1],\n",
    "                \"datatype\": \"String\",\n",
    "                \"data\": [data]\n",
    "            }\n",
    "        ]\n",
    "    }\n",
    "\n",
    "    response = requests.post(infer_url, json=json_data, verify=False)\n",
    "    print(response)\n",
    "    response_dict = response.json()\n",
    "    print(response_dict)\n",
    "    return response_dict['outputs'][0]['data']"
   ]
  },
  {
   "cell_type": "code",
   "execution_count": 29,
   "id": "fa4bb87f-712c-4b38-b9b0-a1335d5d9224",
   "metadata": {},
   "outputs": [
    {
     "name": "stderr",
     "output_type": "stream",
     "text": [
      "/opt/app-root/lib64/python3.11/site-packages/urllib3/connectionpool.py:1064: InsecureRequestWarning: Unverified HTTPS request is being made to host 'safety-checker-robert-llm.apps.dev.rhoai.rh-aiservices-bu.com'. Adding certificate verification is strongly advised. See: https://urllib3.readthedocs.io/en/1.26.x/advanced-usage.html#ssl-warnings\n",
      "  warnings.warn(\n"
     ]
    },
    {
     "name": "stdout",
     "output_type": "stream",
     "text": [
      "<Response [200]>\n",
      "{'model_name': 'safety-checker', 'model_version': None, 'id': 'e29f29cc-a166-4c12-81e8-a7255c1b6a03', 'parameters': None, 'outputs': [{'name': 'output-0', 'shape': [1], 'datatype': 'BOOL', 'parameters': None, 'data': [False]}]}\n"
     ]
    },
    {
     "data": {
      "text/plain": [
       "[False]"
      ]
     },
     "execution_count": 29,
     "metadata": {},
     "output_type": "execute_result"
    }
   ],
   "source": [
    "image = Image.open(\"green-fedora.png\").convert(\"RGB\")\n",
    "buffered = BytesIO()\n",
    "image.save(buffered, format=\"PNG\")\n",
    "img_str = base64.b64encode(buffered.getvalue()).decode(\"utf-8\")\n",
    "\n",
    "rest_request(img_str)"
   ]
  }
 ],
 "metadata": {
  "kernelspec": {
   "display_name": "Python 3.11",
   "language": "python",
   "name": "python3"
  },
  "language_info": {
   "codemirror_mode": {
    "name": "ipython",
    "version": 3
   },
   "file_extension": ".py",
   "mimetype": "text/x-python",
   "name": "python",
   "nbconvert_exporter": "python",
   "pygments_lexer": "ipython3",
   "version": "3.11.7"
  }
 },
 "nbformat": 4,
 "nbformat_minor": 5
}
